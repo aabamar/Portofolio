{
 "cells": [
  {
   "cell_type": "markdown",
   "metadata": {},
   "source": [
    "# Fibonacci Prime function\n"
   ]
  },
  {
   "cell_type": "markdown",
   "metadata": {},
   "source": [
    "**Function description**\n",
    "\n",
    "this function use to find the first `n` Fibonacci Prime Number."
   ]
  },
  {
   "cell_type": "markdown",
   "metadata": {},
   "source": [
    "**Case Example**\n",
    "\n",
    "**Input**\n",
    "```python\n",
    "res = fibonacci_prime(n = 5)\n",
    "print(res)\n",
    "```\n",
    "**Output**\n",
    "```python\n",
    "[2, 3, 5, 13, 89]\n",
    "```"
   ]
  },
  {
   "cell_type": "code",
   "execution_count": 1,
   "metadata": {},
   "outputs": [],
   "source": [
    "def fibonacci_prime(n):\n",
    "\n",
    "  '''\n",
    "  Function to generate fibonacci prime number\n",
    "\n",
    "  Parameters\n",
    "  ----------\n",
    "  n : int\n",
    "     total fibonacci prime numbers will be generate\n",
    "\n",
    "  Returns\n",
    "  --------\n",
    "  numbers : list\n",
    "      The list of fibonacci prime numbers generated\n",
    "\n",
    "  example\n",
    "  --------\n",
    "\n",
    "  if variable n was given 5 then this function will\n",
    "  be generated 5 first number that included in fibonacci prime\n",
    "  numbers\n",
    "\n",
    "  n = 5\n",
    "  numbers = [2, 3, 5, 13, 89]\n",
    "  '''\n",
    "\n",
    "  numbers = [] # output variable\n",
    "  fibonacci = [1, 1] # first fibonacci numbers\n",
    "  num = 0 # while index variable for define prime numbers\n",
    "\n",
    "  # function to generate fibonacci prime numbers\n",
    "  while len(numbers) < n:\n",
    "\n",
    "    fibonacci.append(fibonacci[-1] + fibonacci[-2]) # line to generate fibonacci numbers\n",
    "\n",
    "    # variable for define prime numbers\n",
    "    i = 2\n",
    "    prime = True\n",
    "\n",
    "    # multi line to define prime numbers in fibonacci\n",
    "    if fibonacci[num] > 1:\n",
    "      while i <= fibonacci[num] / 2:\n",
    "        if fibonacci[num] % i == 0:\n",
    "          prime = False\n",
    "          break\n",
    "        i += 1\n",
    "      if prime == True:\n",
    "        numbers.append(fibonacci[num])\n",
    "\n",
    "    num += 1\n",
    "\n",
    "  return numbers # return numbers (list) as output of this function"
   ]
  },
  {
   "cell_type": "code",
   "execution_count": 2,
   "metadata": {},
   "outputs": [
    {
     "name": "stdout",
     "output_type": "stream",
     "text": [
      "[2, 3, 5, 13, 89]\n"
     ]
    }
   ],
   "source": [
    "# Input\n",
    "res = fibonacci_prime(n = 5)\n",
    "print(res)"
   ]
  }
 ],
 "metadata": {
  "kernelspec": {
   "display_name": "Python 3",
   "language": "python",
   "name": "python3"
  },
  "language_info": {
   "codemirror_mode": {
    "name": "ipython",
    "version": 3
   },
   "file_extension": ".py",
   "mimetype": "text/x-python",
   "name": "python",
   "nbconvert_exporter": "python",
   "pygments_lexer": "ipython3",
   "version": "3.11.9"
  }
 },
 "nbformat": 4,
 "nbformat_minor": 2
}
