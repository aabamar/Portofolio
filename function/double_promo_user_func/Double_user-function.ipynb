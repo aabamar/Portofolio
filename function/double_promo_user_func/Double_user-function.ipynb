{
 "cells": [
  {
   "cell_type": "markdown",
   "metadata": {},
   "source": [
    "# Double Promo User function "
   ]
  },
  {
   "cell_type": "markdown",
   "metadata": {},
   "source": [
    "**Function description**\n",
    "\n",
    "**Case:**\n",
    "\n",
    "You are on a marketing team. Your team have 2 types of promo, `promo A` and `promo B`,\n",
    "\n",
    "that user can get **only one of them**.\n",
    "\n",
    "You suspect that there are some users have double promo. Given a `user_ID`, `promo_A_status`, and `promo_B_status`, \n",
    "function task to return `user_ID` whose have double promo.\n"
   ]
  },
  {
   "cell_type": "markdown",
   "metadata": {},
   "source": [
    "**case Example**\n",
    "\n",
    "**input**\n",
    "```python\n",
    "user_id = [11, 21, 34, 49, 51]\n",
    "promo_A_status = [1, 1, 0, 1, 0]\n",
    "promo_B_status = [0, 1, 0, 0, 1]\n",
    "```\n",
    "\n",
    "**output**\n",
    "```\n",
    "[21]\n",
    "```\n"
   ]
  },
  {
   "cell_type": "code",
   "execution_count": 1,
   "metadata": {},
   "outputs": [],
   "source": [
    "def find_double_promo(user_ID, promo_A_status, promo_B_status):\n",
    "    '''\n",
    "    Find user ID that has double promo\n",
    "\n",
    "    Parameters\n",
    "    ----------\n",
    "    user_ID: list\n",
    "        List of user ID\n",
    "\n",
    "    promo_A_status: list\n",
    "        List of user ID that get promo A.\n",
    "        1 = get promo\n",
    "        0 = did not get promo\n",
    "\n",
    "    promo_B_status: list\n",
    "        List of user ID that get promo B.\n",
    "        1 = get promo\n",
    "        0 = did not get promo\n",
    "\n",
    "    Returns\n",
    "    -------\n",
    "    double_ID: list\n",
    "        List of user that get double promo.\n",
    "        If None, return []\n",
    "    '''\n",
    "\n",
    "    num = 0 #define while parameter\n",
    "    double_promo_user = [] #define double_promo_user\n",
    "\n",
    "    '''\n",
    "    the condition of 'if' expression is if the value of promo_A_status and promo_B_status is the same and also their value is 1, their count as double_promo_user\n",
    "\n",
    "    '''\n",
    "    while num < len(user_ID):\n",
    "      if promo_A_status[num] == promo_B_status[num] and promo_A_status[num] == 1:\n",
    "        double_promo_user.append(user_ID[num])\n",
    "\n",
    "      num+=1\n",
    "    return double_promo_user #return double_promo_user variable\n",
    "\n"
   ]
  },
  {
   "cell_type": "code",
   "execution_count": 4,
   "metadata": {},
   "outputs": [
    {
     "data": {
      "text/plain": [
       "[21]"
      ]
     },
     "execution_count": 4,
     "metadata": {},
     "output_type": "execute_result"
    }
   ],
   "source": [
    "user_id = [11, 21, 34, 49, 51]\n",
    "promo_A_status = [1, 1, 0, 1, 0]\n",
    "promo_B_status = [0, 1, 0, 0, 1]\n",
    "\n",
    "find_double_promo(user_id, \n",
    "                  promo_A_status, \n",
    "                  promo_B_status)"
   ]
  }
 ],
 "metadata": {
  "kernelspec": {
   "display_name": "Python 3",
   "language": "python",
   "name": "python3"
  },
  "language_info": {
   "codemirror_mode": {
    "name": "ipython",
    "version": 3
   },
   "file_extension": ".py",
   "mimetype": "text/x-python",
   "name": "python",
   "nbconvert_exporter": "python",
   "pygments_lexer": "ipython3",
   "version": "3.11.9"
  }
 },
 "nbformat": 4,
 "nbformat_minor": 2
}
