{
 "cells": [
  {
   "cell_type": "markdown",
   "metadata": {},
   "source": [
    "# Phone Number Cleaner\n",
    "\n",
    "---"
   ]
  },
  {
   "cell_type": "markdown",
   "metadata": {},
   "source": [
    "**Function description**\n",
    "\n",
    "this function returns clean phone number from inconsistent data, \n",
    "with the following conditions :\n",
    "- Starts with `62`, e.g. `62xxxxxxxxxxx`\n",
    "- It must be 11 digit number, excluding `62`\n",
    "\n",
    "if there is invalid phone number, it will return `'Invalid number'`"
   ]
  },
  {
   "cell_type": "markdown",
   "metadata": {},
   "source": [
    "**Case Example**\n",
    "\n",
    "**Input**\n",
    "```python\n",
    "phone_lists = [\n",
    "    '82123321123',\n",
    "    '082321123321',\n",
    "    '+6282-456-654-456',\n",
    "    '+62 82 789 987 789',\n",
    "    '14045',\n",
    "    '82145-451-145'\n",
    "]\n",
    "```\n",
    "**Output**\n",
    "```python\n",
    "[6282123321123, 6282321123321, 6282456654456, 6282789987789, 'Invalid number', 6282145451145]\n",
    "```"
   ]
  },
  {
   "cell_type": "code",
   "execution_count": 1,
   "metadata": {},
   "outputs": [],
   "source": [
    "def clean_phone_number(phone_list):\n",
    "    '''\n",
    "    Function to clean the phone number\n",
    "\n",
    "    Parameters\n",
    "    ----------\n",
    "    phone_list : list\n",
    "        The raw sample of phone data\n",
    "\n",
    "    Returns\n",
    "    -------\n",
    "    phone_clean : list\n",
    "        The clean sample of phone data\n",
    "    '''\n",
    "\n",
    "    phone_clean = [] #define phone_clean list variable\n",
    "\n",
    "    for phone_number in phone_list: #code for determine the data had 11 number or not, for filtering invalid number\n",
    "      if len(phone_number) < 11: #code for define invalid number in the data\n",
    "        phone_number = 'Invalid Number'\n",
    "        phone_clean.append('Invalid Number')\n",
    "      else: #code for clean valid data and insert data into phone_clean list with additional '62'\n",
    "        phone_number = phone_number.replace(\" \", \"\").replace(\"-\", \"\").replace(\"+\", \"\")\n",
    "        phone_clean.append(int('62' + phone_number[-11:]))\n",
    "\n",
    "    return phone_clean #return phone_clean variable"
   ]
  },
  {
   "cell_type": "code",
   "execution_count": 2,
   "metadata": {},
   "outputs": [
    {
     "name": "stdout",
     "output_type": "stream",
     "text": [
      "20\n"
     ]
    }
   ],
   "source": [
    "phone_lists = [\n",
    "    '82123321123',\n",
    "    '082321123321',\n",
    "    '+6282-456-654-456',\n",
    "    '+62 82 789 987 789',\n",
    "    '14045',\n",
    "    '82145-451-145'\n",
    "]\n",
    "\n",
    "phone_clean = clean_phone_number(phone_lists)\n",
    "print(phone_clean)"
   ]
  }
 ],
 "metadata": {
  "kernelspec": {
   "display_name": "Python 3",
   "language": "python",
   "name": "python3"
  },
  "language_info": {
   "codemirror_mode": {
    "name": "ipython",
    "version": 3
   },
   "file_extension": ".py",
   "mimetype": "text/x-python",
   "name": "python",
   "nbconvert_exporter": "python",
   "pygments_lexer": "ipython3",
   "version": "3.11.9"
  }
 },
 "nbformat": 4,
 "nbformat_minor": 2
}
