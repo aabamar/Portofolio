{
 "cells": [
  {
   "cell_type": "markdown",
   "metadata": {},
   "source": [
    "# NIK Extractor function"
   ]
  },
  {
   "cell_type": "markdown",
   "metadata": {},
   "source": [
    "**Function Descriptions**\n",
    "- NIK is not some random numbers. You can extract information from the NIK.\n",
    "  - The first six digits are a province, regency, and district code\n",
    "  - The next six digits are the date of birth; DD-MM-YY, respectively\n",
    "    - For men, the date of birth ranged between 01-31\n",
    "    - For women, the date of birth is added with 40, hence ranged between 41-71.\n",
    "  - The last 4 digits are a serial number of NIK issuance.\n",
    "\n",
    "\n",
    "- Function task is to extract information from given NIK\n",
    "  1. Extract province, regency, and district code\n",
    "  2. Extract the date of birth of each NIK\n",
    "  3. Extract the gender."
   ]
  },
  {
   "cell_type": "markdown",
   "metadata": {},
   "source": [
    "**Case Example**\n",
    "\n",
    "**Input**\n",
    "```python\n",
    "NIK = 1571011709860003\n",
    "```\n",
    "**Output**\n",
    "```\n",
    "{'province': 'JAMBI',\n",
    " 'city/district': 'KOTA JAMBI',\n",
    " 'sub-district': 'Telanaipura',\n",
    " 'gender': 'male',\n",
    " 'date-of-birth': '17-09-86'}\n",
    "```"
   ]
  },
  {
   "cell_type": "code",
   "execution_count": 1,
   "metadata": {},
   "outputs": [],
   "source": [
    "import pandas as pd"
   ]
  },
  {
   "cell_type": "code",
   "execution_count": 127,
   "metadata": {},
   "outputs": [],
   "source": [
    "def nik_extract(nik):\n",
    "  '''\n",
    "  Function to extract information from NIK\n",
    "\n",
    "  Parameters\n",
    "  ----------\n",
    "  nik : int\n",
    "    Nomor induk kependudukan\n",
    "  \n",
    "  Returns\n",
    "  --------\n",
    "  nik_extract : dict\n",
    "    dict contain information based on given NIK\n",
    "  example\n",
    "  --------\n",
    "  input :\n",
    "    nik = 1571011709860003\n",
    "  \n",
    "  output:\n",
    "    {'province': 'JAMBI',\n",
    "    'city/district': 'KOTA JAMBI',\n",
    "    'sub-district': 'Telanaipura',\n",
    "    'gender': 'male',\n",
    "    'date-of-birth': '17-09-86'}\n",
    "  '''\n",
    "\n",
    "  #convert nik into string type\n",
    "  nik = str(nik)\n",
    "\n",
    "  #area code extraction from first six digit for NIK identification\n",
    "  #import ID area code based on Permendagri No. 72/2019\n",
    "  area_code = pd.read_csv(\"base.csv\", names=['code', 'area'])\n",
    "  #remove '.' from area code\n",
    "  area_code['code'] = area_code['code'].str.replace('.', '')\n",
    "  area_code.set_index('code', inplace=True)\n",
    "\n",
    "  #split area code into smaller group (province, city/district, and subdistrict)\n",
    "  #and convert into dictionary\n",
    "  province_code = area_code[area_code.index.str.len() == 2]\n",
    "  city_code = area_code[area_code.index.str.len() == 4]\n",
    "  subdistrict_code = area_code[area_code.index.str.len() == 6]\n",
    "  \n",
    "  #define area from nik number\n",
    "  nik_province = province_code['area'].loc[nik[0:2]]\n",
    "  nik_city = city_code['area'].loc[nik[0:4]]\n",
    "  nik_subdistrict = subdistrict_code['area'].loc[nik[0:6]]\n",
    "\n",
    "  #gender and birth of date extraction from second six digit for NIK identification\n",
    "  #extract gender from birth of date\n",
    "  if (int(nik[6:8]) - 40) <= 0:\n",
    "    nik_gender = \"male\"\n",
    "    nik_dob = nik[6:8] + '-' + nik[8:10] + '-' + nik[10:12]\n",
    "    \n",
    "  else:\n",
    "    nik_gender = \"female\"\n",
    "    nik_date = int(nik[6:8]) - 40\n",
    "    nik_dob = str(nik_date) + '-' + nik[8:10] + '-' + nik[10:12]\n",
    "\n",
    "  #collect information base on given NIK\n",
    "  nik_extract = {\"province\" : nik_province,\n",
    "                 \"city/district\" : nik_city,\n",
    "                 \"sub-district\" : nik_subdistrict,\n",
    "                 \"gender\" : nik_gender,\n",
    "                 \"date-of-birth\" : nik_dob}\n",
    "  \n",
    "  #return output value\n",
    "  return nik_extract    "
   ]
  },
  {
   "cell_type": "code",
   "execution_count": 124,
   "metadata": {},
   "outputs": [
    {
     "data": {
      "text/plain": [
       "{'province': 'JAMBI',\n",
       " 'city/district': 'KOTA JAMBI',\n",
       " 'sub-district': 'Telanaipura',\n",
       " 'gender': 'male',\n",
       " 'date-of-birth': '17-09-86'}"
      ]
     },
     "execution_count": 124,
     "metadata": {},
     "output_type": "execute_result"
    }
   ],
   "source": [
    "# giving input value nik\n",
    "nik_extract(nik=1571011709860003)"
   ]
  }
 ],
 "metadata": {
  "kernelspec": {
   "display_name": "Python 3",
   "language": "python",
   "name": "python3"
  },
  "language_info": {
   "codemirror_mode": {
    "name": "ipython",
    "version": 3
   },
   "file_extension": ".py",
   "mimetype": "text/x-python",
   "name": "python",
   "nbconvert_exporter": "python",
   "pygments_lexer": "ipython3",
   "version": "3.11.9"
  }
 },
 "nbformat": 4,
 "nbformat_minor": 2
}
