{
 "cells": [
  {
   "cell_type": "markdown",
   "metadata": {},
   "source": [
    "# Temperature Converter function"
   ]
  },
  {
   "cell_type": "markdown",
   "metadata": {},
   "source": [
    "**Function Descriptions**\n",
    "- There are several unit of temperatures use by people around the world.\n",
    "  - For general people: Celcius or Fahrenheit\n",
    "  - For academic purposes: Kelvin\n",
    "- This function use to convert temperature.\n",
    "  - Celcius to Kelvin, vice versa\n",
    "  - Fahrenheit to Kelvin, vice versa\n",
    "  - Celcius to Fahrenheit, vice versa"
   ]
  },
  {
   "cell_type": "markdown",
   "metadata": {},
   "source": [
    "**Case Example**\n",
    "\n",
    "**Input**\n",
    "```python\n",
    "temp = 20\n",
    "from_unit = 'Celcius'\n",
    "to_unit = 'Fahrenheit'\n",
    "```\n",
    "**Output**\n",
    "```\n",
    "20 Celcius is equal to 68 Fahrenheit\n",
    "```"
   ]
  },
  {
   "cell_type": "code",
   "execution_count": 15,
   "metadata": {},
   "outputs": [],
   "source": [
    "def temp_convert(temp, init_unit, convert_unit):\n",
    "  '''\n",
    "  Function to convert temperature based on initial and target unit\n",
    "\n",
    "  Parameters\n",
    "  ----------\n",
    "  temp : int\n",
    "    temperature from initial unit\n",
    "  \n",
    "  init_unit : str\n",
    "    initial unit (\"kelvin\", \"celcius\", and \"fahreinheit\")\n",
    "  \n",
    "  convert_unit : str\n",
    "    target convert unit (\"kelvin\", \"celcius\", and \"fahreinheit\")\n",
    "\n",
    "  Returns\n",
    "  --------\n",
    "  \n",
    "\n",
    "  example\n",
    "  --------\n",
    "  input :\n",
    "    temp = 20\n",
    "    init_unit = 'Celcius'\n",
    "    convert_unit = 'Fahrenheit'\n",
    "  \n",
    "  output:\n",
    "    20 celcius is equal to 68 fahreinheit\n",
    "  '''\n",
    "\n",
    "  #create temperature unit & formula dictionary\n",
    "  #key = init_unit\n",
    "  #value = convert_unit[to_kelvin, to_celcius, to_fahreinheit]\n",
    "  temp_dict = {\n",
    "              \"kelvin\" : [temp, temp - 273, ((temp - 273) * 9/5) + 32],\n",
    "              \"celcius\" : [temp + 273, temp, (temp * 9/5) + 32],\n",
    "              \"fahreinheit\" : [((temp-32) * 5/9) + 273, (temp-32) * 5/9, temp] \n",
    "              }\n",
    "\n",
    "  #convert unit to lowercase\n",
    "  init_unit = init_unit.lower()\n",
    "  convert_unit = convert_unit.lower()\n",
    "\n",
    "  #check & validate unit value are kelvin, celcius & fahreinheit\n",
    "  if init_unit and convert_unit not in temp_dict.keys():\n",
    "    raise Exception(\"unit temperature not recognized\") \n",
    "  else:\n",
    "  #create loop for calculate temperature from initial unit with temperature unit & formula dictionary\n",
    "    for unit, form in temp_dict.items():\n",
    "      if init_unit == unit:\n",
    "        #calculate temp to kelvin unit\n",
    "        if convert_unit == \"kelvin\":\n",
    "          convert_temp = form[0]\n",
    "        #calculate temp to celcius unit\n",
    "        elif convert_unit == \"celcius\":\n",
    "          convert_temp = form[1]\n",
    "        #calculate temp to fahreinheit unit\n",
    "        elif convert_unit == \"fahreinheit\":\n",
    "          convert_temp = form[2]\n",
    "        #check & validate unit value are kelvin, celcius & fahreinheit\n",
    "        else:\n",
    "          raise Exception(\"unit temperature not recognized\")\n",
    "      #check & validate unit value are kelvin, celcius & fahreinheit\n",
    "      else:\n",
    "        pass\n",
    "  #print putput value contain unit and temperature\n",
    "  print(f'{temp} {init_unit} is equal to {int(convert_temp)} {convert_unit}')"
   ]
  },
  {
   "cell_type": "code",
   "execution_count": 14,
   "metadata": {},
   "outputs": [
    {
     "name": "stdout",
     "output_type": "stream",
     "text": [
      "20 celcius is equal to 68 fahreinheit\n"
     ]
    }
   ],
   "source": [
    "# giving input value for temp, initial unit & target unit\n",
    "temp_convert(temp=20,\n",
    "             init_unit=\"celcius\",\n",
    "             convert_unit=\"fahreinheit\")"
   ]
  }
 ],
 "metadata": {
  "kernelspec": {
   "display_name": "Python 3",
   "language": "python",
   "name": "python3"
  },
  "language_info": {
   "codemirror_mode": {
    "name": "ipython",
    "version": 3
   },
   "file_extension": ".py",
   "mimetype": "text/x-python",
   "name": "python",
   "nbconvert_exporter": "python",
   "pygments_lexer": "ipython3",
   "version": "3.11.9"
  }
 },
 "nbformat": 4,
 "nbformat_minor": 2
}
