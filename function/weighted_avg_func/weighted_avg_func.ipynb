{
 "cells": [
  {
   "cell_type": "markdown",
   "metadata": {},
   "source": [
    "# Weighted average function"
   ]
  },
  {
   "cell_type": "markdown",
   "metadata": {},
   "source": [
    "**Function Descriptions**\n",
    "\n",
    "from a list of number (`data`) and list of weight (`w`), this function will find its weighted average.\n",
    "\n",
    "To calculate the weighted average, this function use belows formula\n",
    "\n",
    "$$\n",
    "\\begin{align*}\n",
    "\\text{weighted average} &= \\sum_{i=1}^{n} w_{i} \\cdot \\text{data}_{i} \\\\\n",
    "\\text{weighted average} &= w_{1} \\cdot \\text{data}_{1} +  w_{2} \\cdot \\text{data}_{2} + \\cdots + w_{n} \\cdot \\text{data}_{n}\\\\\n",
    "\\end{align*}\n",
    "$$"
   ]
  },
  {
   "cell_type": "markdown",
   "metadata": {},
   "source": [
    "**Case Example**\n",
    "\n",
    "**Input**\n",
    "```python\n",
    "data = [10, 20, 30, 40, 50]\n",
    "w = [0.10, 0.20, 0.25, 0.3, 0.15]\n",
    "```\n",
    "**Output**\n",
    "```\n",
    "32.0\n",
    "```"
   ]
  },
  {
   "cell_type": "code",
   "execution_count": 1,
   "metadata": {},
   "outputs": [],
   "source": [
    "def calc_weighted_avg(data, w):\n",
    "    '''\n",
    "    Function to calculate the weighted average of a list\n",
    "\n",
    "    Parameters\n",
    "    ----------\n",
    "    data : list\n",
    "        The sample data\n",
    "\n",
    "    w : list\n",
    "        The sample weights\n",
    "\n",
    "    Returns\n",
    "    -------\n",
    "    avg : float\n",
    "        The weighted average\n",
    "    '''\n",
    "\n",
    "    num = 0 #define while parameter\n",
    "    avg = 0 #define weighted data average\n",
    "    while num < len(data): #code for calculate average data weighted\n",
    "      avg += (data[num] * w[num])\n",
    "      num += 1\n",
    "\n",
    "    return avg #return average value\n"
   ]
  },
  {
   "cell_type": "code",
   "execution_count": 2,
   "metadata": {},
   "outputs": [
    {
     "name": "stdout",
     "output_type": "stream",
     "text": [
      "32.0\n"
     ]
    }
   ],
   "source": [
    "# input data\n",
    "data = [10, 20, 30, 40, 50]\n",
    "w = [0.10, 0.20, 0.25, 0.3, 0.15]\n",
    "\n",
    "avg = calc_weighted_avg(data, w)\n",
    "print(avg)"
   ]
  }
 ],
 "metadata": {
  "kernelspec": {
   "display_name": "Python 3",
   "language": "python",
   "name": "python3"
  },
  "language_info": {
   "codemirror_mode": {
    "name": "ipython",
    "version": 3
   },
   "file_extension": ".py",
   "mimetype": "text/x-python",
   "name": "python",
   "nbconvert_exporter": "python",
   "pygments_lexer": "ipython3",
   "version": "3.11.9"
  }
 },
 "nbformat": 4,
 "nbformat_minor": 2
}
