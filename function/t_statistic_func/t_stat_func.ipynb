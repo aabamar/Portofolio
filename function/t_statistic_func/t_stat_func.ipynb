{
 "cells": [
  {
   "cell_type": "markdown",
   "metadata": {},
   "source": [
    "# T Statistics function"
   ]
  },
  {
   "cell_type": "markdown",
   "metadata": {},
   "source": [
    "**Function Descriptions**\n",
    "\n",
    "Marketing team want to know effects of two different sales promotion programs. First program is discount, while second program is lucky draw prize. Program sent to **10 customers for each program**, then you found that **average spending for first program is 100** while **average spending for second program is 96**, with **pooled standard deviation is 1.65**. Create a function where you can pass number of customers, average spending for first program and second program, pooled standard deviation, and **alpha with default parameter is 5%** then **return t-statistics**.\n"
   ]
  },
  {
   "cell_type": "markdown",
   "metadata": {},
   "source": [
    "**Case Example**\n",
    "\n",
    "**Input**\n",
    "```python\n",
    "n = 20\n",
    "avg1 = 120\n",
    "avg2 = 115\n",
    "sd = 1.85\n",
    "alpha = 0.10\n",
    "```\n",
    "**Output**\n",
    "```\n",
    "8.546696378833456\n",
    "```"
   ]
  },
  {
   "cell_type": "code",
   "execution_count": 1,
   "metadata": {},
   "outputs": [],
   "source": [
    "def calculate_t_statistics(n, avg1, avg2, sd, alpha = 0.05):\n",
    "    '''\n",
    "    Function to clean the phone number\n",
    "\n",
    "    Parameters\n",
    "    ----------\n",
    "    n : int\n",
    "        Number of customer for each group\n",
    "    avg1 : float\n",
    "        Average spending for group 1\n",
    "    avg2 : float\n",
    "        Average spending for group 2\n",
    "    sd : float\n",
    "        Pooled standard deviation\n",
    "    alpha : float\n",
    "        alpha\n",
    "\n",
    "    Returns\n",
    "    -------\n",
    "    t_statistics : float\n",
    "        t-statistics\n",
    "    '''\n",
    "    # calculate t score with two-sample t-test formula\n",
    "    t = (avg1-avg2) / (sd*(((1/n)+(1/n))**0.5))\n",
    "\n",
    "    return t"
   ]
  },
  {
   "cell_type": "code",
   "execution_count": 2,
   "metadata": {},
   "outputs": [
    {
     "name": "stdout",
     "output_type": "stream",
     "text": [
      "8.546696378833456\n"
     ]
    }
   ],
   "source": [
    "n = 20\n",
    "avg1 = 120\n",
    "avg2 = 115\n",
    "sd = 1.85\n",
    "alpha = 0.10\n",
    "\n",
    "print(calculate_t_statistics(n, avg1, avg2, sd, alpha))"
   ]
  }
 ],
 "metadata": {
  "kernelspec": {
   "display_name": "Python 3",
   "language": "python",
   "name": "python3"
  },
  "language_info": {
   "codemirror_mode": {
    "name": "ipython",
    "version": 3
   },
   "file_extension": ".py",
   "mimetype": "text/x-python",
   "name": "python",
   "nbconvert_exporter": "python",
   "pygments_lexer": "ipython3",
   "version": "3.11.9"
  }
 },
 "nbformat": 4,
 "nbformat_minor": 2
}
