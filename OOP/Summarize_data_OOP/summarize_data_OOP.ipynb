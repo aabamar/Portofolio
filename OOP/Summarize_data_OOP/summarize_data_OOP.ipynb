{
 "cells": [
  {
   "cell_type": "markdown",
   "metadata": {},
   "source": [
    "# Summarize data\n",
    "\n",
    "---"
   ]
  },
  {
   "cell_type": "markdown",
   "metadata": {},
   "source": [
    "**class description**\n",
    "\n",
    "this Class use to summarize the given data\n",
    "\n",
    "- `Data` has several attributes:\n",
    "  - `data` --> return the input data\n",
    "  - `size` --> return the size of the input data\n",
    "- `Data` has several methods:\n",
    "  - `read_data(data)` --> to read the input data\n",
    "  - `find_total()` --> return the total sum of the input data\n",
    "  - `find_average()` --> return the average of the input data"
   ]
  },
  {
   "cell_type": "markdown",
   "metadata": {},
   "source": [
    "**Case Example**\n",
    "\n",
    "**Input**\n",
    "```python\n",
    "data = [0, 1, 2, 3, 4, 5, 6, 7, 8, 9]\n",
    "\n",
    "data_obj = Data()\n",
    "data_obj.read_data(data)\n",
    "print(data_obj.data)\n",
    "print(data_obj.size)\n",
    "print(data_obj.find_total())\n",
    "print(data_obj.find_average())\n",
    "\n",
    "```\n",
    "**Output**\n",
    "```python\n",
    "[0, 1, 2, 3, 4, 5, 6, 7, 8, 9]\n",
    "10\n",
    "45\n",
    "4.5\n",
    "```"
   ]
  },
  {
   "cell_type": "code",
   "execution_count": 1,
   "metadata": {},
   "outputs": [],
   "source": [
    "class Data:\n",
    "    '''\n",
    "    class of given data\n",
    "\n",
    "    parameters\n",
    "    ----------\n",
    "    data = given data\n",
    "    size = length of data\n",
    "\n",
    "    method\n",
    "    ----------\n",
    "    read_data = input given data to class\n",
    "    find_total = calculate total sum of data\n",
    "    find_average = calculate average of data\n",
    "    '''\n",
    "    def read_data(self, data): #define read_data method\n",
    "      self.data = data\n",
    "      self.size = len(data)\n",
    "\n",
    "    def find_total(self): #define find_total method\n",
    "      total = sum(self.data)\n",
    "      return total\n",
    "\n",
    "    def find_average(self): #define find_average method\n",
    "      average = sum(self.data)/self.size\n",
    "      return average\n",
    "\n",
    "    pass"
   ]
  },
  {
   "cell_type": "code",
   "execution_count": 2,
   "metadata": {},
   "outputs": [
    {
     "name": "stdout",
     "output_type": "stream",
     "text": [
      "[0, 1, 2, 3, 4, 5, 6, 7, 8, 9]\n",
      "10\n",
      "45\n",
      "4.5\n"
     ]
    }
   ],
   "source": [
    "data = [0, 1, 2, 3, 4, 5, 6, 7, 8, 9]\n",
    "\n",
    "data_obj = Data()\n",
    "data_obj.read_data(data)\n",
    "print(data_obj.data)\n",
    "print(data_obj.size)\n",
    "print(data_obj.find_total())\n",
    "print(data_obj.find_average())"
   ]
  }
 ],
 "metadata": {
  "kernelspec": {
   "display_name": "Python 3",
   "language": "python",
   "name": "python3"
  },
  "language_info": {
   "codemirror_mode": {
    "name": "ipython",
    "version": 3
   },
   "file_extension": ".py",
   "mimetype": "text/x-python",
   "name": "python",
   "nbconvert_exporter": "python",
   "pygments_lexer": "ipython3",
   "version": "3.11.9"
  }
 },
 "nbformat": 4,
 "nbformat_minor": 2
}
