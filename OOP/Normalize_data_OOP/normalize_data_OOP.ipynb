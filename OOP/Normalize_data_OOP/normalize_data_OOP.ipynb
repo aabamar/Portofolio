{
 "cells": [
  {
   "cell_type": "markdown",
   "metadata": {},
   "source": [
    "# Normalize Data\n",
    "\n",
    "---"
   ]
  },
  {
   "cell_type": "markdown",
   "metadata": {},
   "source": [
    "**class description**\n",
    "\n",
    "- Convert a set of data to have minimum value of 0.0 and maximum value of 1.0.\n",
    "- **transform** or **normalize** formula\n",
    "\n",
    "$$\n",
    "x^{(\\text{new})}_{i}\n",
    "=\n",
    "\\cfrac\n",
    "{x^{(\\text{old})}_{i} - \\min(x^{(\\text{old})})}\n",
    "{\\max(x^{(\\text{old})}) - \\min(x^{(\\text{old})})}\n",
    "$$\n",
    "\n",
    "- This class named `Normalizer`\n",
    "- You can initialize the class without any input.\n",
    "- The `Normalizer` has three method\n",
    "  1. `fit`\n",
    "    - Have one input: `data` (list)\n",
    "    - To get the minimum & maximum value of data\n",
    "  2. `transform`\n",
    "    - Have one input: `data` (list)\n",
    "    - Have one output: `data_scaled` (list)\n",
    "    - Normalize the input data\n",
    "  3. `inverse_transform`\n",
    "    - Have one input: `data` (list)\n",
    "    - Have one output: `data_inv_scaled` (list)\n",
    "    - Return the normalize data to the initial data\n",
    "- The `Normalizer` has three parameters\n",
    "  1. `min`, contain the minimum value of the data\n",
    "  2. `max`, contain the maximum value of the data"
   ]
  },
  {
   "cell_type": "markdown",
   "metadata": {},
   "source": [
    "**Case Example**\n",
    "\n",
    "**Input**\n",
    "\n",
    "```python\n",
    "# Define a data to normalize\n",
    "x = [-3, -9, 0, 8, 11]\n",
    "\n",
    "# 1. Initialize a Normalizer object\n",
    "scaler = Normalizer()\n",
    "\n",
    "# 2. Fit the data\n",
    "scaler.fit(data = x)\n",
    "print('min value    :', scaler.min)\n",
    "print('max value    :', scaler.max)\n",
    "\n",
    "# 3. Transform data\n",
    "x_scaled = scaler.transform(data = x)\n",
    "print('x initial    :', x)\n",
    "print('x scaled     :', x_scaled)\n",
    "\n",
    "# 4. Transform back the scaled data\n",
    "x_inv_scaled = scaler.inverse_transform(data = x_scaled)\n",
    "print('x inv scaled :', x_inv_scaled)\n",
    "```\n",
    "\n",
    "**Output**\n",
    "```\n",
    "min value    : -9\n",
    "max value    : 11\n",
    "x initial    : [-3, -9, 0, 8, 11]\n",
    "x scaled     : [0.3, 0.0, 0.45, 0.85, 1.0]\n",
    "x inv scaled : [-3.0, -9.0, 0.0, 8.0, 11.0]\n",
    "```"
   ]
  },
  {
   "cell_type": "code",
   "execution_count": 3,
   "metadata": {},
   "outputs": [],
   "source": [
    "class Normalizer:\n",
    "    \"\"\"\n",
    "    Class to normalize and inverse normalize data using min-max scaling.\n",
    "\n",
    "    Attributes:\n",
    "        min (int): Minimum value in the data.\n",
    "        max (int): Maximum value in the data.\n",
    "\n",
    "    Methods:\n",
    "        __init__(self, data): Initializes the Normalizer object with the minimum and maximum values of the data.\n",
    "        transform(self, data): Scales the input data to a range between 0 and 1.\n",
    "        inverse_transform(self, data): Reverts the scaled data back to its original range.\n",
    "    \"\"\"\n",
    "\n",
    "    def fit(self, data):\n",
    "        \"\"\"\n",
    "        Initializes the Normalizer object with the minimum and maximum values of the input data.\n",
    "        \"\"\"\n",
    "        self.min = min(data)\n",
    "        self.max = max(data)\n",
    "\n",
    "    def transform(self, data):\n",
    "        \"\"\"\n",
    "        Scales the input data to a range between 0 and 1.\n",
    "        \"\"\"\n",
    "        return [(x - self.min) / (self.max - self.min) for x in data]\n",
    "\n",
    "    def inverse_transform(self, data):\n",
    "        \"\"\"\n",
    "        Reverts the scaled data back to its original range.\n",
    "        \"\"\"\n",
    "        return [(x * (self.max - self.min) + self.min) for x in data]"
   ]
  },
  {
   "cell_type": "code",
   "execution_count": 4,
   "metadata": {},
   "outputs": [
    {
     "name": "stdout",
     "output_type": "stream",
     "text": [
      "min value    : -9\n",
      "max value    : 11\n",
      "x initial    : [-3, -9, 0, 8, 11]\n",
      "x scaled     : [0.3, 0.0, 0.45, 0.85, 1.0]\n",
      "x inv scaled : [-3.0, -9.0, 0.0, 8.0, 11.0]\n"
     ]
    }
   ],
   "source": [
    "# Define a data to normalize\n",
    "x = [-3, -9, 0, 8, 11]\n",
    "\n",
    "# 1. Initialize a Normalizer object\n",
    "scaler = Normalizer()\n",
    "\n",
    "# 2. Fit the data\n",
    "scaler.fit(data = x)\n",
    "print('min value    :', scaler.min)\n",
    "print('max value    :', scaler.max)\n",
    "\n",
    "# 3. Transform data\n",
    "x_scaled = scaler.transform(data = x)\n",
    "print('x initial    :', x)\n",
    "print('x scaled     :', x_scaled)\n",
    "\n",
    "# 4. Transform back the scaled data\n",
    "x_inv_scaled = scaler.inverse_transform(data = x_scaled)\n",
    "print('x inv scaled :', x_inv_scaled)"
   ]
  }
 ],
 "metadata": {
  "kernelspec": {
   "display_name": "Python 3",
   "language": "python",
   "name": "python3"
  },
  "language_info": {
   "codemirror_mode": {
    "name": "ipython",
    "version": 3
   },
   "file_extension": ".py",
   "mimetype": "text/x-python",
   "name": "python",
   "nbconvert_exporter": "python",
   "pygments_lexer": "ipython3",
   "version": "3.11.9"
  }
 },
 "nbformat": 4,
 "nbformat_minor": 2
}
