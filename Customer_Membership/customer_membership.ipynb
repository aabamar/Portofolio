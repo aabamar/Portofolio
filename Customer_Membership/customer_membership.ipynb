{
  "cells": [
    {
      "cell_type": "markdown",
      "metadata": {},
      "source": [
        "# Pac-Commerce System"
      ]
    },
    {
      "cell_type": "markdown",
      "metadata": {},
      "source": [
        "## Case Description"
      ]
    },
    {
      "cell_type": "markdown",
      "metadata": {},
      "source": [
        "1. available membership in pac-commerce\n",
        "    -   Platinum\n",
        "    -   Gold\n",
        "    -   Silver\n",
        "\n",
        "2. Each Membership have different benefit (Discount, Voucher, Cashback)\n",
        "\n",
        "3. Pac-Commerce need system to predict user based on their monthly income and expense\n",
        "\n",
        "4. User membership prediction using Euclidean Distance formula"
      ]
    },
    {
      "cell_type": "markdown",
      "metadata": {
        "id": "_MdYk_yUhrlR"
      },
      "source": [
        "## Code"
      ]
    },
    {
      "cell_type": "markdown",
      "metadata": {
        "id": "74kIAG5PhtZy"
      },
      "source": [
        "### Class\n"
      ]
    },
    {
      "cell_type": "code",
      "execution_count": 9,
      "metadata": {
        "id": "sepKksqBiDfr"
      },
      "outputs": [],
      "source": [
        "import math\n",
        "from tabulate import tabulate\n",
        "class E_commerce:\n",
        "    \"\"\"\n",
        "    Class representing an e-commerce system.\n",
        "\n",
        "    Methods:\n",
        "    - show_benefit: Display the benefits of different membership tiers.\n",
        "    - show_requirement: Display the monthly expense and income requirements for each membership tier.\n",
        "    - predict_membership: Predict the most suitable membership tier based on monthly expense and income.\n",
        "    - calculate: Calculate the price after applying the discount based on the membership tier.\n",
        "    \"\"\"\n",
        "\n",
        "    def __init__(self):\n",
        "        pass\n",
        "\n",
        "    def show_benefit(self):\n",
        "\n",
        "        header = ['Membership', 'Discount', 'Benefit']\n",
        "        content = [['PLATINUM', '15%', 'SILVER + GOLD + CASHBACK 30% + VOUCHER LIBURAN'],\n",
        "                ['GOLD', '10%', 'SILVER + VOUCHER OJEK ONLINE'],\n",
        "                ['SILVER', '8%', 'VOUCHER MAKAN']\n",
        "                ]\n",
        "        print('\\nMembership Description : \\n',tabulate(content, header))\n",
        "\n",
        "    def show_requirement(self):\n",
        "\n",
        "        header = ['Membership', 'Monthly Expense (JUTA)', 'Monthly Income (JUTA)']\n",
        "        content = [['PLATINUM', '8', '15'],\n",
        "                ['GOLD', '6', '10'],\n",
        "                ['SILVER', '5', '7']\n",
        "                ]\n",
        "        print('\\nTier description : \\n',tabulate(content, header))\n",
        "\n",
        "    def predict_membership(self, month_expense, month_income):\n",
        "\n",
        "        tier_dict = {\"PLATINUM\" : [8, 15],\n",
        "                    \"GOLD\" : [6, 10],\n",
        "                    \"SILVER\" : [5, 7]\n",
        "                    }\n",
        "        euclidean_dict = {}\n",
        "\n",
        "        for tier, exp_inc in tier_dict.items():\n",
        "            euclidean = math.sqrt((month_expense - tier_dict[tier][0])**2 + (month_income - tier_dict[tier][1])**2)\n",
        "            euclidean_dict.update({tier : euclidean})\n",
        "\n",
        "        min_value = min(euclidean_dict.values())\n",
        "\n",
        "        for tier, eucl in euclidean_dict.items():\n",
        "            if eucl == min_value:\n",
        "                print(\"membership :\",tier)\n",
        "\n",
        "    def calculate(self, membership, price_list):\n",
        "\n",
        "        price_total = sum(price_list)\n",
        "        discount_dict = {\"PLATINUM\" : 0.15,\n",
        "                        \"GOLD\" : 0.1,\n",
        "                        \"SILVER\" : 0.08}\n",
        "\n",
        "        for tier, disc in discount_dict.items():\n",
        "            if membership == tier:\n",
        "                price_discount = price_total - (price_total*disc)\n",
        "\n",
        "                print('price total :', price_total)\n",
        "                print('price after discount :', price_discount)"
      ]
    },
    {
      "cell_type": "markdown",
      "metadata": {
        "id": "P2M569Z-hvfU"
      },
      "source": [
        "## Study case"
      ]
    },
    {
      "cell_type": "code",
      "execution_count": 3,
      "metadata": {
        "id": "YcQSGvncJ32g"
      },
      "outputs": [
        {
          "name": "stdout",
          "output_type": "stream",
          "text": [
            "\n",
            "Membership Description : \n",
            " Membership    Discount    Benefit\n",
            "------------  ----------  ----------------------------------------------\n",
            "PLATINUM      15%         SILVER + GOLD + CASHBACK 30% + VOUCHER LIBURAN\n",
            "GOLD          10%         SILVER + VOUCHER OJEK ONLINE\n",
            "SILVER        8%          VOUCHER MAKAN\n"
          ]
        }
      ],
      "source": [
        "#Initialize user\n",
        "user_1 = E_commerce()\n",
        "\n",
        "#check membership and benefit available in pac-Commerce\n",
        "user_1.show_benefit()"
      ]
    },
    {
      "cell_type": "code",
      "execution_count": 4,
      "metadata": {},
      "outputs": [
        {
          "name": "stdout",
          "output_type": "stream",
          "text": [
            "\n",
            "Tier description : \n",
            " Membership      Monthly Expense (JUTA)    Monthly Income (JUTA)\n",
            "------------  ------------------------  -----------------------\n",
            "PLATINUM                             8                       15\n",
            "GOLD                                 6                       10\n",
            "SILVER                               5                        7\n"
          ]
        }
      ],
      "source": [
        "#initialize user\n",
        "user_2 = E_commerce()\n",
        "\n",
        "#show requirement for each membership\n",
        "user_2.show_requirement()"
      ]
    },
    {
      "cell_type": "code",
      "execution_count": 5,
      "metadata": {},
      "outputs": [
        {
          "name": "stdout",
          "output_type": "stream",
          "text": [
            "membership : GOLD\n"
          ]
        }
      ],
      "source": [
        "#initialize user\n",
        "user_3 = E_commerce()\n",
        "\n",
        "#predict user membership with monthly expense and income\n",
        "user_3.predict_membership(month_expense=7, month_income= 11)"
      ]
    },
    {
      "cell_type": "code",
      "execution_count": 10,
      "metadata": {},
      "outputs": [
        {
          "name": "stdout",
          "output_type": "stream",
          "text": [
            "price total : 1630000\n",
            "price after discount : 1467000.0\n"
          ]
        }
      ],
      "source": [
        "#initialize user\n",
        "user_4 = E_commerce()\n",
        "\n",
        "#calculate total expenditure\n",
        "user_4.calculate(membership='GOLD',\n",
        "                 price_list=[10_000, 300_000, 450_000, 870_000])"
      ]
    }
  ],
  "metadata": {
    "colab": {
      "provenance": []
    },
    "kernelspec": {
      "display_name": "Python 3",
      "name": "python3"
    },
    "language_info": {
      "codemirror_mode": {
        "name": "ipython",
        "version": 3
      },
      "file_extension": ".py",
      "mimetype": "text/x-python",
      "name": "python",
      "nbconvert_exporter": "python",
      "pygments_lexer": "ipython3",
      "version": "3.11.9"
    }
  },
  "nbformat": 4,
  "nbformat_minor": 0
}
